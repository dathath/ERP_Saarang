{
  "nbformat": 4,
  "nbformat_minor": 0,
  "metadata": {
    "colab": {
      "name": "example_unrestricted_advex.ipynb",
      "version": "0.3.2",
      "provenance": [],
      "include_colab_link": true
    },
    "kernelspec": {
      "name": "python3",
      "display_name": "Python 3"
    },
    "accelerator": "GPU"
  },
  "cells": [
    {
      "cell_type": "markdown",
      "metadata": {
        "id": "view-in-github",
        "colab_type": "text"
      },
      "source": [
        "<a href=\"https://colab.research.google.com/github/dathath/ERP_Saarang/blob/master/example_unrestricted_advex.ipynb\" target=\"_parent\"><img src=\"https://colab.research.google.com/assets/colab-badge.svg\" alt=\"Open In Colab\"/></a>"
      ]
    },
    {
      "metadata": {
        "id": "LadTGZI4yGOu",
        "colab_type": "text"
      },
      "cell_type": "markdown",
      "source": [
        "# Set the hardware accelerator to a GPU\n",
        "![image](https://user-images.githubusercontent.com/306655/45970257-e630a400-bfea-11e8-8e34-df7fa3bd0948.png)\n"
      ]
    },
    {
      "metadata": {
        "id": "6gu5ry87yivD",
        "colab_type": "text"
      },
      "cell_type": "markdown",
      "source": [
        "\n",
        "# Install packages"
      ]
    },
    {
      "metadata": {
        "id": "iIDNSqGyzxs6",
        "colab_type": "code",
        "colab": {}
      },
      "cell_type": "code",
      "source": [
        "!git clone https://github.com/google/unrestricted-adversarial-examples.git"
      ],
      "execution_count": 0,
      "outputs": []
    },
    {
      "metadata": {
        "id": "umbg8RIbynoN",
        "colab_type": "code",
        "colab": {}
      },
      "cell_type": "code",
      "source": [
        "!pip install -e unrestricted-adversarial-examples/bird-or-bicycle\n",
        "!pip install -e unrestricted-adversarial-examples/unrestricted-advex\n"
      ],
      "execution_count": 0,
      "outputs": []
    },
    {
      "metadata": {
        "id": "xq_vdX8NyqZ5",
        "colab_type": "text"
      },
      "cell_type": "markdown",
      "source": [
        "# Restart the colab kernel to pick up the newly installed pip packages\n",
        "![image](https://user-images.githubusercontent.com/306655/45970541-a918e180-bfeb-11e8-889a-be535f515fe8.png)"
      ]
    },
    {
      "metadata": {
        "id": "X0EYx2U7z0CI",
        "colab_type": "text"
      },
      "cell_type": "markdown",
      "source": [
        "# Evaluate a toy defense"
      ]
    },
    {
      "metadata": {
        "id": "bHhwhHDkzs1K",
        "colab_type": "code",
        "outputId": "9012dd17-28ba-4145-dc56-fb1b5b049a21",
        "colab": {
          "base_uri": "https://localhost:8080/",
          "height": 2733
        }
      },
      "cell_type": "code",
      "source": [
        "import bird_or_bicycle\n",
        "import numpy as np\n",
        "\n",
        "def my_very_robust_model(images_batch_nhwc):\n",
        "  \"\"\" This fn is a valid defense that always predicts the second class \"\"\"\n",
        "  batch_size = len(images_batch_nhwc)\n",
        "  logits_np = np.array([[-5.0, 5.0]] * batch_size)\n",
        "  return logits_np.astype(np.float32)\n",
        "\n",
        "# Evaluate the model (this will take ~10 hours on a GPU)\n",
        "from unrestricted_advex import eval_kit\n",
        "eval_kit.evaluate_bird_or_bicycle_model(my_very_robust_model)"
      ],
      "execution_count": 0,
      "outputs": [
        {
          "output_type": "stream",
          "text": [
            "/content/unrestricted-adversarial-examples/unrestricted-advex/unrestricted_advex/plotting.py:11: UserWarning: \n",
            "This call to matplotlib.use() has no effect because the backend has already\n",
            "been chosen; matplotlib.use() must be called *before* pylab, matplotlib.pyplot,\n",
            "or matplotlib.backends is imported for the first time.\n",
            "\n",
            "The backend was *originally* set to 'module://ipykernel.pylab.backend_inline' by the following code:\n",
            "  File \"/usr/lib/python3.6/runpy.py\", line 193, in _run_module_as_main\n",
            "    \"__main__\", mod_spec)\n",
            "  File \"/usr/lib/python3.6/runpy.py\", line 85, in _run_code\n",
            "    exec(code, run_globals)\n",
            "  File \"/usr/local/lib/python3.6/dist-packages/ipykernel_launcher.py\", line 16, in <module>\n",
            "    app.launch_new_instance()\n",
            "  File \"/usr/local/lib/python3.6/dist-packages/traitlets/config/application.py\", line 657, in launch_instance\n",
            "    app.initialize(argv)\n",
            "  File \"<decorator-gen-121>\", line 2, in initialize\n",
            "  File \"/usr/local/lib/python3.6/dist-packages/traitlets/config/application.py\", line 87, in catch_config_error\n",
            "    return method(app, *args, **kwargs)\n",
            "  File \"/usr/local/lib/python3.6/dist-packages/ipykernel/kernelapp.py\", line 462, in initialize\n",
            "    self.init_gui_pylab()\n",
            "  File \"/usr/local/lib/python3.6/dist-packages/ipykernel/kernelapp.py\", line 403, in init_gui_pylab\n",
            "    InteractiveShellApp.init_gui_pylab(self)\n",
            "  File \"/usr/local/lib/python3.6/dist-packages/IPython/core/shellapp.py\", line 213, in init_gui_pylab\n",
            "    r = enable(key)\n",
            "  File \"/usr/local/lib/python3.6/dist-packages/IPython/core/interactiveshell.py\", line 2950, in enable_matplotlib\n",
            "    pt.activate_matplotlib(backend)\n",
            "  File \"/usr/local/lib/python3.6/dist-packages/IPython/core/pylabtools.py\", line 309, in activate_matplotlib\n",
            "    matplotlib.pyplot.switch_backend(backend)\n",
            "  File \"/usr/local/lib/python3.6/dist-packages/matplotlib/pyplot.py\", line 232, in switch_backend\n",
            "    matplotlib.use(newbackend, warn=False, force=True)\n",
            "  File \"/usr/local/lib/python3.6/dist-packages/matplotlib/__init__.py\", line 1305, in use\n",
            "    reload(sys.modules['matplotlib.backends'])\n",
            "  File \"/usr/lib/python3.6/importlib/__init__.py\", line 166, in reload\n",
            "    _bootstrap._exec(spec, module)\n",
            "  File \"/usr/local/lib/python3.6/dist-packages/matplotlib/backends/__init__.py\", line 14, in <module>\n",
            "    line for line in traceback.format_stack()\n",
            "\n",
            "\n",
            "  matplotlib.use('Agg')\n"
          ],
          "name": "stderr"
        },
        {
          "output_type": "stream",
          "text": [
            "Version: 0.0.3. Saving 500 images to /root/datasets/bird_or_bicycle/0.0.3/test/bird     (using 4 parallel processes)\n"
          ],
          "name": "stdout"
        },
        {
          "output_type": "stream",
          "text": [
            "100%|██████████| 500/500 [09:39<00:00,  1.03s/it]"
          ],
          "name": "stderr"
        },
        {
          "output_type": "stream",
          "text": [
            "Version: 0.0.3. Saving 500 images to /root/datasets/bird_or_bicycle/0.0.3/test/bicycle     (using 4 parallel processes)\n"
          ],
          "name": "stdout"
        },
        {
          "output_type": "stream",
          "text": [
            "\n",
            "100%|██████████| 500/500 [09:45<00:00,  2.03s/it]"
          ],
          "name": "stderr"
        },
        {
          "output_type": "stream",
          "text": [
            "Cropping images to correct shape and size...\n"
          ],
          "name": "stdout"
        },
        {
          "output_type": "stream",
          "text": [
            "\n",
            "100%|██████████| 500/500 [00:20<00:00, 24.13it/s]\n",
            "100%|██████████| 500/500 [00:20<00:00, 24.34it/s]\n"
          ],
          "name": "stderr"
        },
        {
          "output_type": "stream",
          "text": [
            "Verification of dataset successful. Dataset is correctly prepared.\n",
            "Verification of dataset successful. Dataset is correctly prepared.\n"
          ],
          "name": "stdout"
        },
        {
          "output_type": "stream",
          "text": [
            "100%|██████████| 32/32 [00:00<00:00, 5097.52it/s]"
          ],
          "name": "stderr"
        },
        {
          "output_type": "stream",
          "text": [
            "Executing attack: clean\n"
          ],
          "name": "stdout"
        },
        {
          "output_type": "stream",
          "text": [
            "\n"
          ],
          "name": "stderr"
        },
        {
          "output_type": "stream",
          "text": [
            "[clean] acc@80% = 0.500\n",
            "+-------------+---------------+----------------+\n",
            "| Attack name | Acc @ 80% cov | Acc @ 100% cov |\n",
            "+-------------+---------------+----------------+\n",
            "| clean       | 0.5           | 0.5            |\n",
            "+-------------+---------------+----------------+\n",
            "To visually inspect the adversarial examples that your model correctly and incorrectly classified, view them in: /tmp/unrestricted_advex_evals/unnamed_defense \n"
          ],
          "name": "stdout"
        },
        {
          "output_type": "execute_result",
          "data": {
            "text/plain": [
              "{'clean': {'accuracy@100': 0.5,\n",
              "  'accuracy@80': 0.5,\n",
              "  'confident_error_idxs@100': array([  0,   1,   2,   3,   4,   5,   8,   9,  11,  15,  16,  17,  21,\n",
              "          23,  25,  27,  29,  30,  34,  35,  37,  38,  39,  41,  44,  46,\n",
              "          47,  49,  52,  53,  55,  57,  60,  62,  63,  64,  66,  69,  70,\n",
              "          71,  76,  77,  78,  82,  87,  88,  96,  97,  98, 100, 101, 103,\n",
              "         104, 105, 108, 110, 113, 115, 120, 123, 125, 126, 127, 130, 132,\n",
              "         134, 135, 137, 138, 139, 140, 141, 142, 143, 146, 149, 152, 158,\n",
              "         159, 161, 162, 164, 165, 166, 168, 169, 171, 172, 176, 177, 179,\n",
              "         180, 181, 182, 184, 186, 187, 189, 190, 195, 197, 198, 203, 207,\n",
              "         209, 210, 211, 212, 216, 219, 220, 221, 223, 225, 226, 229, 230,\n",
              "         231, 232, 233, 234, 236, 237, 240, 244, 247, 249, 251, 253, 257,\n",
              "         259, 262, 263, 265, 266, 268, 270, 271, 272, 274, 276, 277, 278,\n",
              "         280, 281, 283, 285, 286, 289, 290, 291, 292, 293, 297, 298, 299,\n",
              "         301, 305, 306, 307, 308, 309, 310, 311, 313, 314, 317, 319, 324,\n",
              "         325, 326, 328, 332, 333, 334, 335, 337, 338, 339, 340, 341, 344,\n",
              "         345, 346, 347, 348, 351, 353, 356, 357, 360, 363, 364, 365, 366,\n",
              "         369, 372, 374, 375, 376, 378, 380, 381, 382, 384, 391, 393, 394,\n",
              "         397, 400, 402, 403, 406, 407, 408, 410, 412, 414, 415, 417, 418,\n",
              "         421, 425, 426, 429, 430, 433, 434, 435, 437, 439, 442, 443, 444,\n",
              "         445, 448, 449, 450, 451, 452, 454, 456, 457, 461, 462, 467, 468,\n",
              "         469, 472, 473, 474, 475, 476, 477, 478, 482, 485, 487, 488, 489,\n",
              "         490, 495, 497, 500, 504, 508, 510, 512, 514, 517, 518, 519, 520,\n",
              "         521, 525, 527, 528, 529, 532, 535, 536, 538, 540, 544, 546, 548,\n",
              "         549, 551, 552, 555, 556, 558, 559, 560, 565, 566, 568, 574, 575,\n",
              "         579, 580, 581, 582, 586, 588, 589, 590, 592, 593, 595, 597, 598,\n",
              "         603, 604, 613, 614, 615, 617, 618, 620, 621, 623, 624, 625, 628,\n",
              "         629, 633, 635, 636, 638, 641, 642, 645, 646, 648, 650, 651, 657,\n",
              "         660, 661, 662, 663, 665, 667, 669, 670, 671, 673, 675, 676, 679,\n",
              "         680, 683, 685, 691, 692, 693, 695, 697, 699, 704, 708, 709, 711,\n",
              "         715, 716, 720, 723, 725, 727, 728, 731, 734, 738, 745, 746, 751,\n",
              "         752, 754, 757, 758, 760, 761, 763, 764, 765, 768, 773, 775, 779,\n",
              "         780, 784, 786, 787, 790, 791, 794, 795, 800, 801, 804, 808, 809,\n",
              "         810, 814, 815, 816, 817, 821, 822, 824, 834, 835, 836, 837, 839,\n",
              "         841, 842, 843, 844, 846, 849, 851, 852, 855, 857, 858, 859, 860,\n",
              "         861, 862, 864, 865, 871, 872, 874, 875, 876, 877, 878, 879, 880,\n",
              "         882, 883, 887, 890, 892, 896, 897, 898, 899, 901, 902, 905, 907,\n",
              "         908, 910, 912, 913, 918, 922, 929, 932, 933, 934, 937, 939, 941,\n",
              "         943, 945, 946, 947, 950, 951, 954, 957, 958, 959, 960, 961, 964,\n",
              "         966, 968, 971, 972, 973, 977, 980, 981, 984, 986, 987, 989, 990,\n",
              "         992, 995, 996, 997, 998, 999]),\n",
              "  'confident_error_idxs@80': array([  0,   1,   2,   3,   4,   5,   8,   9,  11,  15,  16,  17,  21,\n",
              "          23,  25,  27,  29,  30,  34,  35,  37,  38,  39,  41,  44,  46,\n",
              "          47,  49,  52,  53,  55,  57,  60,  62,  63,  64,  66,  69,  70,\n",
              "          71,  76,  77,  78,  82,  87,  88,  96,  97,  98, 100, 101, 103,\n",
              "         104, 105, 108, 110, 113, 115, 120, 123, 125, 126, 127, 130, 132,\n",
              "         134, 135, 137, 138, 139, 140, 141, 142, 143, 146, 149, 152, 158,\n",
              "         159, 161, 162, 164, 165, 166, 168, 169, 171, 172, 176, 177, 179,\n",
              "         180, 181, 182, 184, 186, 187, 189, 190, 195, 197, 198, 203, 207,\n",
              "         209, 210, 211, 212, 216, 219, 220, 221, 223, 225, 226, 229, 230,\n",
              "         231, 232, 233, 234, 236, 237, 240, 244, 247, 249, 251, 253, 257,\n",
              "         259, 262, 263, 265, 266, 268, 270, 271, 272, 274, 276, 277, 278,\n",
              "         280, 281, 283, 285, 286, 289, 290, 291, 292, 293, 297, 298, 299,\n",
              "         301, 305, 306, 307, 308, 309, 310, 311, 313, 314, 317, 319, 324,\n",
              "         325, 326, 328, 332, 333, 334, 335, 337, 338, 339, 340, 341, 344,\n",
              "         345, 346, 347, 348, 351, 353, 356, 357, 360, 363, 364, 365, 366,\n",
              "         369, 372, 374, 375, 376, 378, 380, 381, 382, 384, 391, 393, 394,\n",
              "         397, 400, 402, 403, 406, 407, 408, 410, 412, 414, 415, 417, 418,\n",
              "         421, 425, 426, 429, 430, 433, 434, 435, 437, 439, 442, 443, 444,\n",
              "         445, 448, 449, 450, 451, 452, 454, 456, 457, 461, 462, 467, 468,\n",
              "         469, 472, 473, 474, 475, 476, 477, 478, 482, 485, 487, 488, 489,\n",
              "         490, 495, 497, 500, 504, 508, 510, 512, 514, 517, 518, 519, 520,\n",
              "         521, 525, 527, 528, 529, 532, 535, 536, 538, 540, 544, 546, 548,\n",
              "         549, 551, 552, 555, 556, 558, 559, 560, 565, 566, 568, 574, 575,\n",
              "         579, 580, 581, 582, 586, 588, 589, 590, 592, 593, 595, 597, 598,\n",
              "         603, 604, 613, 614, 615, 617, 618, 620, 621, 623, 624, 625, 628,\n",
              "         629, 633, 635, 636, 638, 641, 642, 645, 646, 648, 650, 651, 657,\n",
              "         660, 661, 662, 663, 665, 667, 669, 670, 671, 673, 675, 676, 679,\n",
              "         680, 683, 685, 691, 692, 693, 695, 697, 699, 704, 708, 709, 711,\n",
              "         715, 716, 720, 723, 725, 727, 728, 731, 734, 738, 745, 746, 751,\n",
              "         752, 754, 757, 758, 760, 761, 763, 764, 765, 768, 773, 775, 779,\n",
              "         780, 784, 786, 787, 790, 791, 794, 795, 800, 801, 804, 808, 809,\n",
              "         810, 814, 815, 816, 817, 821, 822, 824, 834, 835, 836, 837, 839,\n",
              "         841, 842, 843, 844, 846, 849, 851, 852, 855, 857, 858, 859, 860,\n",
              "         861, 862, 864, 865, 871, 872, 874, 875, 876, 877, 878, 879, 880,\n",
              "         882, 883, 887, 890, 892, 896, 897, 898, 899, 901, 902, 905, 907,\n",
              "         908, 910, 912, 913, 918, 922, 929, 932, 933, 934, 937, 939, 941,\n",
              "         943, 945, 946, 947, 950, 951, 954, 957, 958, 959, 960, 961, 964,\n",
              "         966, 968, 971, 972, 973, 977, 980, 981, 984, 986, 987, 989, 990,\n",
              "         992, 995, 996, 997, 998, 999])}}"
            ]
          },
          "metadata": {
            "tags": []
          },
          "execution_count": 1
        },
        {
          "output_type": "display_data",
          "data": {
            "image/png": "[encoded data removed]",
            "text/plain": [
              "<matplotlib.figure.Figure at 0x7f4d8e530dd8>"
            ]
          },
          "metadata": {
            "tags": []
          }
        }
      ]
    },
    {
      "metadata": {
        "id": "fgH9DUTRztbm",
        "colab_type": "code",
        "colab": {}
      },
      "cell_type": "code",
      "source": [
        ""
      ],
      "execution_count": 0,
      "outputs": []
    }
  ]
}